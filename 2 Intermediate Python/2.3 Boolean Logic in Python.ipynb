{
 "cells": [
  {
   "cell_type": "markdown",
   "metadata": {},
   "source": [
    "## Boolean Logic in Python\n",
    "In this lesson, we’ll cover Boolean Logic, a fundamental concept in programming used to control the flow of your Python code. You’ll learn how to use comparison operators, Boolean operators, and control structures like if, elif, and else to make decisions in your programs. Additionally, we’ll dive into how Boolean logic can be applied in Pandas DataFrames for data filtering.  \n",
    "\n",
    "#### Comparison Operators\n",
    "Comparison operators allow you to compare two values and return a Boolean value (True or False). These are essential for decision-making in Python.\n",
    "1. Equality:  \n",
    "The equality operator == checks if two values are equal."
   ]
  },
  {
   "cell_type": "code",
   "execution_count": null,
   "metadata": {},
   "outputs": [
    {
     "name": "stdout",
     "output_type": "stream",
     "text": [
      "True\n"
     ]
    }
   ],
   "source": [
    "x = 3\n",
    "print(x == 3) # Check if the values are equal, output: True"
   ]
  },
  {
   "cell_type": "markdown",
   "metadata": {},
   "source": [
    "2. Greater than and Less than:  \n",
    "The > operator checks if the left value is greater than the right, and the < operator checks if the left value is less than the right."
   ]
  },
  {
   "cell_type": "code",
   "execution_count": 6,
   "metadata": {},
   "outputs": [
    {
     "name": "stdout",
     "output_type": "stream",
     "text": [
      "False\n",
      "True\n"
     ]
    }
   ],
   "source": [
    "y = 4\n",
    "print(x > y) # Check if the value is greater than y, output: False\n",
    "print(x < y) # Check if the value is less than y, output: True"
   ]
  },
  {
   "cell_type": "markdown",
   "metadata": {},
   "source": [
    "3. Compare Arrays (NumPy arrays):  \n",
    "Comparison operators can be used to compare elements in arrays. NumPy will compare arrays element-wise and return a Boolean array."
   ]
  },
  {
   "cell_type": "code",
   "execution_count": null,
   "metadata": {},
   "outputs": [
    {
     "name": "stdout",
     "output_type": "stream",
     "text": [
      "[False  True False]\n",
      "[False False  True]\n",
      "[ True False False]\n"
     ]
    }
   ],
   "source": [
    "import numpy as np\n",
    "a = np.array([1, 2, 3])\n",
    "b = np.array([3, 2, 1])\n",
    "print(a == b) # Compares each value with the same index if they are equal\n",
    "print(a > b) # Compares each value with the same index if the values in a is greater than the values in b\n",
    "print(a < b) # Compares each value with the same index if the values in a is less than the values in b"
   ]
  },
  {
   "cell_type": "markdown",
   "metadata": {},
   "source": [
    "#### Boolean Operators  \n",
    "Boolean operators allow you to combine multiple Boolean conditions.\n",
    "1. and, or, not:\n",
    "- and: Returns True if both conditions are True.\n",
    "- or: Returns True if at least one condition is True.\n",
    "- not: Reverses the Boolean value."
   ]
  },
  {
   "cell_type": "code",
   "execution_count": null,
   "metadata": {},
   "outputs": [
    {
     "name": "stdout",
     "output_type": "stream",
     "text": [
      "True\n",
      "True\n",
      "True\n"
     ]
    }
   ],
   "source": [
    "x = 10\n",
    "y = 5\n",
    "z = 20\n",
    "# 'and' operator\n",
    "print(x > y and z > x)  # If both statements are true, output: True\n",
    "# 'or' operator\n",
    "print(x > y or z < x)  # If either one statements are true, output: True\n",
    "# 'not' operator\n",
    "print(not (x == y))  # Adds a negative to the statement to encompass the value of the complement, if x = y is false, output: True"
   ]
  },
  {
   "cell_type": "markdown",
   "metadata": {},
   "source": [
    "You can combine these operators to form more complex conditions."
   ]
  },
  {
   "cell_type": "code",
   "execution_count": 15,
   "metadata": {},
   "outputs": [
    {
     "name": "stdout",
     "output_type": "stream",
     "text": [
      "True\n",
      "True\n"
     ]
    }
   ],
   "source": [
    "a = 10\n",
    "b = 20\n",
    "c = 30\n",
    "# 'and' combined with 'or'\n",
    "print(a < b and b < c or c > a)  # Output: True\n",
    "# 'not' combined with 'and'\n",
    "print(not (a < b and b > c))  # Output: True"
   ]
  },
  {
   "cell_type": "markdown",
   "metadata": {},
   "source": [
    "2. Boolean Operators with NumPy:  \n",
    "You can also use and, or, and not for element-wise operations in NumPy arrays using & (and), | (or), and ~ (not)."
   ]
  },
  {
   "cell_type": "code",
   "execution_count": 16,
   "metadata": {},
   "outputs": [
    {
     "name": "stdout",
     "output_type": "stream",
     "text": [
      "[False False False]\n"
     ]
    }
   ],
   "source": [
    "x = np.array([1, 2, 3])\n",
    "y = np.array([3, 2, 1])\n",
    "print((x > y) & (x != 3))  # Output: [False False False]"
   ]
  },
  {
   "cell_type": "markdown",
   "metadata": {},
   "source": [
    "#### if, elif, else\n",
    "These are conditional statements that control the flow of your program based on logical conditions.\n",
    "1. Warmup:  \n",
    "Let's start with a simple example:"
   ]
  },
  {
   "cell_type": "code",
   "execution_count": null,
   "metadata": {},
   "outputs": [],
   "source": [
    "age = 18\n",
    "if age >= 18:\n",
    "    print(\"You are an adult.\")\n"
   ]
  },
  {
   "cell_type": "markdown",
   "metadata": {},
   "source": [
    "2. if Statement:  \n",
    "The if statement checks if the condition is True. If it is, the block of code under it will execute."
   ]
  },
  {
   "cell_type": "code",
   "execution_count": 17,
   "metadata": {},
   "outputs": [],
   "source": [
    "age = 16\n",
    "if age >= 18:\n",
    "    print(\"You are an adult.\")  # This won't execute since age is less than 18"
   ]
  },
  {
   "cell_type": "markdown",
   "metadata": {},
   "source": [
    "3. Add else:  \n",
    "The else block executes if the if condition is not met."
   ]
  },
  {
   "cell_type": "code",
   "execution_count": 18,
   "metadata": {},
   "outputs": [
    {
     "name": "stdout",
     "output_type": "stream",
     "text": [
      "You are a minor.\n"
     ]
    }
   ],
   "source": [
    "age = 16\n",
    "if age >= 18:\n",
    "    print(\"You are an adult.\")\n",
    "else:\n",
    "    print(\"You are a minor.\")"
   ]
  },
  {
   "cell_type": "markdown",
   "metadata": {},
   "source": [
    "4. Customize Further: elif:  \n",
    "elif allows you to check multiple conditions. If the first condition is not true, it checks the elif condition."
   ]
  },
  {
   "cell_type": "code",
   "execution_count": 3,
   "metadata": {},
   "outputs": [
    {
     "name": "stdout",
     "output_type": "stream",
     "text": [
      "You're probably already dead\n"
     ]
    }
   ],
   "source": [
    "age = 90\n",
    "if age < 13:\n",
    "    print(\"You are a child.\")\n",
    "elif age >= 13 and age < 20:\n",
    "    print(\"You are a teenager.\")\n",
    "elif age >= 20 and age < 90:\n",
    "    print(\"You are an adult.\")\n",
    "else:\n",
    "    print(\"You're probably already dead\")"
   ]
  },
  {
   "cell_type": "markdown",
   "metadata": {},
   "source": [
    "#### Filtering Pandas DataFrames\n",
    "Now, let’s apply Boolean logic to filter data within Pandas DataFrames.  \n",
    "1. Driving Right:  \n",
    "Consider a DataFrame with data about car usage:"
   ]
  },
  {
   "cell_type": "code",
   "execution_count": 5,
   "metadata": {},
   "outputs": [
    {
     "name": "stdout",
     "output_type": "stream",
     "text": [
      "   country  drives_right\n",
      "0      USA          True\n",
      "1       UK         False\n",
      "2    India         False\n",
      "3    Japan          True\n",
      "4  Germany          True\n"
     ]
    }
   ],
   "source": [
    "import pandas as pd # Import pandas\n",
    "# Create dictionary\n",
    "data = {\n",
    "    \"country\": [\"USA\", \"UK\", \"India\", \"Japan\", \"Germany\"],\n",
    "    \"drives_right\": [True, False, False, True, True]\n",
    "}\n",
    "df = pd.DataFrame(data) # Convert into a pandas DataFrame\n",
    "print(df)"
   ]
  },
  {
   "cell_type": "markdown",
   "metadata": {},
   "source": [
    "To filter countries where people drive on the right, you can apply a Boolean condition:"
   ]
  },
  {
   "cell_type": "code",
   "execution_count": 6,
   "metadata": {},
   "outputs": [
    {
     "name": "stdout",
     "output_type": "stream",
     "text": [
      "   country  drives_right\n",
      "0      USA          True\n",
      "3    Japan          True\n",
      "4  Germany          True\n"
     ]
    }
   ],
   "source": [
    "right_drivers = df[df[\"drives_right\"] == True]\n",
    "print(right_drivers)"
   ]
  },
  {
   "cell_type": "markdown",
   "metadata": {},
   "source": [
    "You can also use not to find countries where people do not drive on the right:"
   ]
  },
  {
   "cell_type": "code",
   "execution_count": 9,
   "metadata": {},
   "outputs": [
    {
     "name": "stdout",
     "output_type": "stream",
     "text": [
      "  country  drives_right\n",
      "1      UK         False\n",
      "2   India         False\n"
     ]
    }
   ],
   "source": [
    "left_drivers = df[~df[\"drives_right\"]]\n",
    "print(left_drivers)"
   ]
  },
  {
   "cell_type": "markdown",
   "metadata": {},
   "source": [
    "2. Cars per Capita:  \n",
    "Let's use another dataset to filter out countries based on the number of cars per capita."
   ]
  },
  {
   "cell_type": "code",
   "execution_count": 10,
   "metadata": {},
   "outputs": [
    {
     "name": "stdout",
     "output_type": "stream",
     "text": [
      "   country  cars_per_capita\n",
      "0      USA              0.8\n",
      "1    India              0.1\n",
      "2    China              0.2\n",
      "3  Germany              0.6\n",
      "4    Japan              0.7\n",
      "   country  cars_per_capita\n",
      "0      USA              0.8\n",
      "3  Germany              0.6\n",
      "4    Japan              0.7\n"
     ]
    }
   ],
   "source": [
    "data = {\n",
    "    \"country\": [\"USA\", \"India\", \"China\", \"Germany\", \"Japan\"],\n",
    "    \"cars_per_capita\": [0.8, 0.1, 0.2, 0.6, 0.7]\n",
    "}\n",
    "\n",
    "df = pd.DataFrame(data)\n",
    "print(df)\n",
    "\n",
    "# Filter countries with cars_per_capita greater than 0.5\n",
    "high_car_countries = df[df[\"cars_per_capita\"] > 0.5]\n",
    "print(high_car_countries)"
   ]
  },
  {
   "cell_type": "markdown",
   "metadata": {},
   "source": [
    "You can combine conditions using and and or. For instance, filter countries with cars per capita between 0.2 and 0.8:"
   ]
  },
  {
   "cell_type": "code",
   "execution_count": 12,
   "metadata": {},
   "outputs": [
    {
     "name": "stdout",
     "output_type": "stream",
     "text": [
      "   country  cars_per_capita\n",
      "3  Germany              0.6\n",
      "4    Japan              0.7\n"
     ]
    }
   ],
   "source": [
    "medium_car_countries = df[(df[\"cars_per_capita\"] > 0.2) & (df[\"cars_per_capita\"] < 0.8)]\n",
    "print(medium_car_countries)"
   ]
  },
  {
   "cell_type": "markdown",
   "metadata": {},
   "source": [
    "### Practice Project: Boolean Logic with DataFrames\n",
    "Objective: Use Boolean logic to filter and manipulate data in a Pandas DataFrame.  \n",
    "Dataset: Create a dataset about students with the following columns: \"name\", \"age\", \"GPA\", \"passed_exam\".  \n",
    "Steps:  \n",
    "1. Create a dictionary for the student dataset:\n",
    "2. Convert the dictionary to a Pandas DataFrame.\n",
    "3. Filter the DataFrame:\n",
    "- Filter students who passed the exam.\n",
    "- Filter students who have a GPA greater than 3.5.\n",
    "- Filter students who are 21 or older and have a GPA less than 3.7."
   ]
  },
  {
   "cell_type": "code",
   "execution_count": 17,
   "metadata": {},
   "outputs": [
    {
     "name": "stdout",
     "output_type": "stream",
     "text": [
      "DataFrame:\n",
      "    name  age              major  GPA  scores  passed_exam\n",
      "0  Barb   19            Biology  2.9      92         True\n",
      "1   Ton   22            Physics  3.9      72        False\n",
      "2  Jose   20           Aviation  3.7      39        False\n",
      "3  Melv   18        Accountancy  3.2      87         True\n",
      "4  Fred   23          Economics  3.8      98         True\n",
      "5  Mika   24  Political Science  3.5      51        False\n",
      "\n",
      "Passed\n",
      "    name  age        major  GPA  scores  passed_exam\n",
      "0  Barb   19      Biology  2.9      92         True\n",
      "3  Melv   18  Accountancy  3.2      87         True\n",
      "4  Fred   23    Economics  3.8      98         True\n",
      "\n",
      "Students with GPA Higher than 3.5\n",
      "    name  age      major  GPA  scores  passed_exam\n",
      "1   Ton   22    Physics  3.9      72        False\n",
      "2  Jose   20   Aviation  3.7      39        False\n",
      "4  Fred   23  Economics  3.8      98         True\n",
      "\n",
      "Student over 21 years old\n",
      "    name  age              major  GPA  scores  passed_exam\n",
      "1   Ton   22            Physics  3.9      72        False\n",
      "4  Fred   23          Economics  3.8      98         True\n",
      "5  Mika   24  Political Science  3.5      51        False\n"
     ]
    }
   ],
   "source": [
    "# Create a dictionary for the student dataset\n",
    "ds = {\"name\":[\"Barb\", \"Ton\", \"Jose\", \"Melv\", \"Fred\", \"Mika\"],\n",
    "      \"age\":[19, 22, 20, 18, 23, 24],\n",
    "      \"major\":[\"Biology\", \"Physics\",\"Aviation\",\"Accountancy\",\"Economics\",\"Political Science\"],\n",
    "      \"GPA\":[2.9, 3.9, 3.7, 3.2, 3.8, 3.5],\n",
    "      \"scores\":[92,72,39,87,98,51]\n",
    "}\n",
    "# Turn dictionary into a dataframe\n",
    "df = pd.DataFrame(ds)\n",
    "df['passed_exam'] = df['scores'].apply(lambda scores: True if scores >= 75 else False)\n",
    "print(\"DataFrame:\\n\", df)\n",
    "print(\"\\nPassed\\n\", df[df[\"passed_exam\"] == True])\n",
    "print(\"\\nStudents with GPA Higher than 3.5\\n\", df[df[\"GPA\"] > 3.5])\n",
    "print(\"\\nStudent over 21 years old\\n\", df[df[\"age\"] > 21])\n"
   ]
  },
  {
   "cell_type": "markdown",
   "metadata": {},
   "source": [
    "#### Bonus Problem:\n",
    "Add a new column \"pass_status\" that contains the value \"Pass\" if the student passed the exam and \"Fail\" if they did not.  \n",
    "Group the students by pass_status and calculate the average GPA and age for each group."
   ]
  },
  {
   "cell_type": "code",
   "execution_count": null,
   "metadata": {},
   "outputs": [
    {
     "name": "stdout",
     "output_type": "stream",
     "text": [
      "   name  age              major  GPA  scores  passed_exam pass_status\n",
      "0  Barb   19            Biology  2.9      92         True      Passed\n",
      "1   Ton   22            Physics  3.9      72        False        Fail\n",
      "2  Jose   20           Aviation  3.7      39        False        Fail\n",
      "3  Melv   18        Accountancy  3.2      87         True      Passed\n",
      "4  Fred   23          Economics  3.8      98         True      Passed\n",
      "5  Mika   24  Political Science  3.5      51        False        Fail\n",
      "\n",
      "Passed\n",
      "    name  age        major  GPA  scores  passed_exam pass_status\n",
      "0  Barb   19      Biology  2.9      92         True      Passed\n",
      "3  Melv   18  Accountancy  3.2      87         True      Passed\n",
      "4  Fred   23    Economics  3.8      98         True      Passed\n",
      "Average of Students who Passed:\n",
      " 3.3\n"
     ]
    }
   ],
   "source": [
    "df['pass_status'] = df['passed_exam'].apply(lambda passed: \"Passed\" if passed else \"Fail\")\n",
    "print(df)\n",
    "print(\"\\nPassed\\n\", df[df[\"pass_status\"] == \"Passed\"])\n",
    "print(\"Average of Students who Passed:\\n\", round(df[df[\"pass_status\"] == \"Passed\"][\"GPA\"].mean(axis=0),2))"
   ]
  }
 ],
 "metadata": {
  "kernelspec": {
   "display_name": "Python 3",
   "language": "python",
   "name": "python3"
  },
  "language_info": {
   "codemirror_mode": {
    "name": "ipython",
    "version": 3
   },
   "file_extension": ".py",
   "mimetype": "text/x-python",
   "name": "python",
   "nbconvert_exporter": "python",
   "pygments_lexer": "ipython3",
   "version": "3.13.0"
  }
 },
 "nbformat": 4,
 "nbformat_minor": 2
}
