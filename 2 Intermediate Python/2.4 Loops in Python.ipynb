{
 "cells": [
  {
   "cell_type": "markdown",
   "metadata": {},
   "source": [
    "## Loops in Python\n",
    "Loops are essential tools for repeating tasks or iterating over data structures in Python. This lesson will cover both while and for loops, their usage, and how they can be applied to various data structures like lists, dictionaries, NumPy arrays, and Pandas DataFrames.\n",
    "#### While Loop\n",
    "A while loop executes a block of code repeatedly as long as a given condition is True.\n",
    "1. While: Warming Up  \n",
    "The simplest form of a while loop:"
   ]
  },
  {
   "cell_type": "code",
   "execution_count": 12,
   "metadata": {},
   "outputs": [
    {
     "name": "stdout",
     "output_type": "stream",
     "text": [
      "0\n",
      "1\n",
      "2\n",
      "3\n",
      "4\n"
     ]
    }
   ],
   "source": [
    "x = 0\n",
    "while x < 5:\n",
    "    print(x)\n",
    "    x += 1  # Increment x"
   ]
  },
  {
   "cell_type": "markdown",
   "metadata": {},
   "source": [
    "2. Basic While Loop  \n",
    "Use while loops to repeat a task until a condition changes:"
   ]
  },
  {
   "cell_type": "code",
   "execution_count": 13,
   "metadata": {},
   "outputs": [
    {
     "name": "stdout",
     "output_type": "stream",
     "text": [
      "Countdown: 3\n",
      "Countdown: 2\n",
      "Countdown: 1\n",
      "Blastoff!\n"
     ]
    }
   ],
   "source": [
    "import time as tm\n",
    "counter = 3\n",
    "# While loop that counts seconds and stops and prints \"Blastoff!\" at zero\n",
    "while counter > 0:\n",
    "    print(\"Countdown:\", counter)\n",
    "    tm.sleep(1)\n",
    "    counter -= 1\n",
    "print(\"Blastoff!\")"
   ]
  },
  {
   "cell_type": "markdown",
   "metadata": {},
   "source": [
    "3. Add Conditionals  \n",
    "Integrate if statements within while loops to add more control:"
   ]
  },
  {
   "cell_type": "code",
   "execution_count": 14,
   "metadata": {},
   "outputs": [
    {
     "name": "stdout",
     "output_type": "stream",
     "text": [
      "10 is even\n",
      "9 is odd\n",
      "8 is even\n",
      "7 is odd\n",
      "6 is even\n",
      "5 is odd\n",
      "4 is even\n",
      "3 is odd\n",
      "2 is even\n",
      "1 is odd\n"
     ]
    }
   ],
   "source": [
    "num = 10\n",
    "# While loop that counts down from var num to 1 stating if a number is either even or odd\n",
    "while num > 0:\n",
    "    tm.sleep(1)\n",
    "    if num % 2 == 0:\n",
    "        print(num, \"is even\")\n",
    "    else:\n",
    "        print(num, \"is odd\")\n",
    "    num -= 1"
   ]
  },
  {
   "cell_type": "markdown",
   "metadata": {},
   "source": [
    "#### For Loop\n",
    "A for loop iterates over items in a sequence like a list, tuple, dictionary, or array.  \n",
    "1. Loop Over a List"
   ]
  },
  {
   "cell_type": "code",
   "execution_count": 15,
   "metadata": {},
   "outputs": [
    {
     "name": "stdout",
     "output_type": "stream",
     "text": [
      "apple\n",
      "banana\n",
      "cherry\n"
     ]
    }
   ],
   "source": [
    "fruits = [\"apple\", \"banana\", \"cherry\"]\n",
    "for i in fruits:\n",
    "    tm.sleep(1)\n",
    "    print(i)"
   ]
  },
  {
   "cell_type": "markdown",
   "metadata": {},
   "source": [
    "2. Indexes and Values:\n",
    "Use range() to iterate with an index:"
   ]
  },
  {
   "cell_type": "code",
   "execution_count": 16,
   "metadata": {},
   "outputs": [
    {
     "name": "stdout",
     "output_type": "stream",
     "text": [
      "Index: 0 Value: apple\n",
      "Index: 1 Value: banana\n",
      "Index: 2 Value: cherry\n"
     ]
    }
   ],
   "source": [
    "for i in range(len(fruits)):\n",
    "    print(\"Index:\", i, \"Value:\", fruits[i])"
   ]
  },
  {
   "cell_type": "markdown",
   "metadata": {},
   "source": [
    "Use enumerate() for a cleaner way to access indexes and values:"
   ]
  },
  {
   "cell_type": "code",
   "execution_count": 17,
   "metadata": {},
   "outputs": [
    {
     "name": "stdout",
     "output_type": "stream",
     "text": [
      "Index 0: apple\n",
      "Index 1: banana\n",
      "Index 2: cherry\n"
     ]
    }
   ],
   "source": [
    "for i, fruit in enumerate(fruits):\n",
    "    print(f\"Index {i}: {fruit}\")"
   ]
  },
  {
   "cell_type": "markdown",
   "metadata": {},
   "source": [
    "3. Loop Over List of Lists  \n",
    "Iterate through nested lists:"
   ]
  },
  {
   "cell_type": "code",
   "execution_count": 18,
   "metadata": {},
   "outputs": [
    {
     "name": "stdout",
     "output_type": "stream",
     "text": [
      "1\n",
      "2\n",
      "3\n",
      "4\n",
      "5\n",
      "6\n"
     ]
    }
   ],
   "source": [
    "matrix = [[1, 2], [3, 4], [5, 6]]\n",
    "for row in matrix:\n",
    "    for value in row:\n",
    "        print(value)"
   ]
  },
  {
   "cell_type": "markdown",
   "metadata": {},
   "source": [
    "#### Loop Data Structures\n",
    "1. Loop Over Dictionary\n",
    "Access keys, values, or both:"
   ]
  },
  {
   "cell_type": "code",
   "execution_count": 19,
   "metadata": {},
   "outputs": [
    {
     "name": "stdout",
     "output_type": "stream",
     "text": [
      "Alice scored 90\n",
      "Bob scored 85\n",
      "Charlie scored 92\n"
     ]
    }
   ],
   "source": [
    "grades = {\"Alice\": 90, \"Bob\": 85, \"Charlie\": 92}\n",
    "for key, value in grades.items():\n",
    "    print(f\"{key} scored {value}\")"
   ]
  },
  {
   "cell_type": "markdown",
   "metadata": {},
   "source": [
    "2. Loop Over NumPy Array\n",
    "Use NumPy arrays with for loops:"
   ]
  },
  {
   "cell_type": "code",
   "execution_count": 20,
   "metadata": {},
   "outputs": [
    {
     "name": "stdout",
     "output_type": "stream",
     "text": [
      "1\n",
      "2\n",
      "3\n",
      "4\n"
     ]
    }
   ],
   "source": [
    "import numpy as np\n",
    "\n",
    "array = np.array([1, 2, 3, 4])\n",
    "for value in array:\n",
    "    print(value)"
   ]
  },
  {
   "cell_type": "markdown",
   "metadata": {},
   "source": [
    "Or iterate with indices using np.ndenumerate():"
   ]
  },
  {
   "cell_type": "code",
   "execution_count": 21,
   "metadata": {},
   "outputs": [
    {
     "name": "stdout",
     "output_type": "stream",
     "text": [
      "Index (0,): 1\n",
      "Index (1,): 2\n",
      "Index (2,): 3\n",
      "Index (3,): 4\n"
     ]
    }
   ],
   "source": [
    "for idx, value in np.ndenumerate(array):\n",
    "    print(f\"Index {idx}: {value}\")"
   ]
  },
  {
   "cell_type": "markdown",
   "metadata": {},
   "source": [
    "3. Loop Over DataFrame:\n",
    "Loop through rows in a DataFrame:"
   ]
  },
  {
   "cell_type": "code",
   "execution_count": 22,
   "metadata": {},
   "outputs": [
    {
     "name": "stdout",
     "output_type": "stream",
     "text": [
      "Index 0: Alice scored 90\n",
      "Index 1: Bob scored 85\n",
      "Index 2: Charlie scored 92\n"
     ]
    }
   ],
   "source": [
    "import pandas as pd\n",
    "\n",
    "data = {\"Name\": [\"Alice\", \"Bob\", \"Charlie\"], \"Score\": [90, 85, 92]}\n",
    "df = pd.DataFrame(data)\n",
    "\n",
    "for index, row in df.iterrows():\n",
    "    print(f\"Index {index}: {row['Name']} scored {row['Score']}\")"
   ]
  },
  {
   "cell_type": "markdown",
   "metadata": {},
   "source": [
    "Loop through columns:"
   ]
  },
  {
   "cell_type": "code",
   "execution_count": 23,
   "metadata": {},
   "outputs": [
    {
     "name": "stdout",
     "output_type": "stream",
     "text": [
      "Column: Name\n",
      "0      Alice\n",
      "1        Bob\n",
      "2    Charlie\n",
      "Name: Name, dtype: object\n",
      "Column: Score\n",
      "0    90\n",
      "1    85\n",
      "2    92\n",
      "Name: Score, dtype: int64\n"
     ]
    }
   ],
   "source": [
    "for col_name in df:\n",
    "    print(f\"Column: {col_name}\")\n",
    "    print(df[col_name])"
   ]
  },
  {
   "cell_type": "markdown",
   "metadata": {},
   "source": [
    "4. Add Column:\n",
    "Add a new column based on existing data:"
   ]
  },
  {
   "cell_type": "code",
   "execution_count": 24,
   "metadata": {},
   "outputs": [
    {
     "name": "stdout",
     "output_type": "stream",
     "text": [
      "      Name  Score  Pass\n",
      "0    Alice     90  True\n",
      "1      Bob     85  True\n",
      "2  Charlie     92  True\n"
     ]
    }
   ],
   "source": [
    "df[\"Pass\"] = [score >= 50 for score in df[\"Score\"]]\n",
    "print(df)"
   ]
  },
  {
   "cell_type": "markdown",
   "metadata": {},
   "source": [
    "Add a column based on a condition in a loop:    "
   ]
  },
  {
   "cell_type": "code",
   "execution_count": 25,
   "metadata": {},
   "outputs": [
    {
     "name": "stdout",
     "output_type": "stream",
     "text": [
      "      Name  Score  Pass Grade\n",
      "0    Alice     90  True     A\n",
      "1      Bob     85  True     B\n",
      "2  Charlie     92  True     A\n"
     ]
    }
   ],
   "source": [
    "df[\"Grade\"] = \"\"\n",
    "for index, row in df.iterrows():\n",
    "    if row[\"Score\"] >= 90:\n",
    "        df.at[index, \"Grade\"] = \"A\"\n",
    "    else:\n",
    "        df.at[index, \"Grade\"] = \"B\"\n",
    "print(df)"
   ]
  },
  {
   "cell_type": "markdown",
   "metadata": {},
   "source": [
    "#### Practice Project: Employee Productivity Tracker\n",
    "Objective: Create a program to process and analyze employee productivity data using loops.  \n",
    "Dataset:"
   ]
  },
  {
   "cell_type": "code",
   "execution_count": 28,
   "metadata": {},
   "outputs": [],
   "source": [
    "data = {\n",
    "    \"Employee\": [\"Alice\", \"Bob\", \"Charlie\", \"Diana\"],\n",
    "    \"Hours Worked\": [35, 40, 25, 45],\n",
    "    \"Projects Completed\": [5, 7, 3, 8]\n",
    "}"
   ]
  },
  {
   "cell_type": "markdown",
   "metadata": {},
   "source": [
    "Steps:  \n",
    "1. Convert the dictionary to a Pandas DataFrame.\n",
    "2. Calculate Productivity:\n",
    "- Add a new column called \"Productivity\" where: Productivity = Projects Completed/Hours Worked\n",
    "3. Filter Employees:\n",
    "- Use a loop to find employees with a productivity score greater than 0.15.\n",
    "4. Aggregate Summary:\n",
    "- Use loops to calculate the average hours worked and average projects completed."
   ]
  },
  {
   "cell_type": "code",
   "execution_count": null,
   "metadata": {},
   "outputs": [
    {
     "name": "stdout",
     "output_type": "stream",
     "text": [
      "  Employee  Hours Worked  Projects Completed Productivity\n",
      "0    Alice            35                   5     0.142857\n",
      "1      Bob            40                   7        0.175\n",
      "2  Charlie            25                   3         0.12\n",
      "3    Diana            45                   8     0.177778\n",
      "  Employee  Hours Worked  Projects Completed Productivity          ProdGrade\n",
      "0    Alice            35                   5     0.142857  Needs Improvement\n",
      "1      Bob            40                   7        0.175         Productive\n",
      "2  Charlie            25                   3         0.12  Needs Improvement\n",
      "3    Diana            45                   8     0.177778         Productive\n",
      "\n",
      "Passed:\n",
      "   Employee  Hours Worked  Projects Completed Productivity   ProdGrade\n",
      "1      Bob            40                   7        0.175  Productive\n",
      "3    Diana            45                   8     0.177778  Productive\n",
      "\n",
      "Average Hours Worked: 36.25\n",
      "\n",
      "Average Projects Completed: 5.75\n"
     ]
    }
   ],
   "source": [
    "# Create DataFrame\n",
    "df = pd.DataFrame(data)\n",
    "# Add \"Productivity\" Column\n",
    "df[\"Productivity\"] = \"\"\n",
    "# Compute \"Productivity\"\n",
    "for index, row in df.iterrows():\n",
    "    df.at[index, \"Productivity\"] = row[\"Projects Completed\"] / row[\"Hours Worked\"]\n",
    "print(df)\n",
    "# Filter Employees\n",
    "df[\"ProdGrade\"] = \"\"\n",
    "for index, row in df.iterrows():\n",
    "    if row[\"Productivity\"] > 0.15:\n",
    "        df.at[index, \"ProdGrade\"] = \"Productive\"\n",
    "    else:\n",
    "        df.at[index, \"ProdGrade\"] = \"Needs Improvement\"\n",
    "print(df)\n",
    "print(\"\\nPassed:\\n\", df[df[\"ProdGrade\"] == \"Productive\"])\n",
    "\n",
    "# Calculate Average Hours Worked using a for loop through accumulation then printing it\n",
    "total_hw = 0\n",
    "count_hw = 0\n",
    "for index, rows in df.iterrows():\n",
    "    total_hw += rows[\"Hours Worked\"]\n",
    "    count_hw += 1\n",
    "ave_hw = total_hw / count_hw\n",
    "print(\"\\nAverage Hours Worked:\", ave_hw)\n",
    "\n",
    "# Calculate Average Projects Completed using a for loop through accumulation then printing it\n",
    "total_pc = 0\n",
    "count_pc = 0\n",
    "for index, rows in df.iterrows():\n",
    "    total_pc += rows[\"Projects Completed\"]\n",
    "    count_pc += 1\n",
    "ave_pc = total_pc / count_pc\n",
    "print(\"\\nAverage Projects Completed:\", ave_pc)"
   ]
  },
  {
   "cell_type": "markdown",
   "metadata": {},
   "source": [
    "##### Bonus Problem: Advanced Filtering\n",
    "Bonus Objective: Expand on the productivity analysis by incorporating categories:\n",
    "1. Add a new column \"Category\":\n",
    "- \"High Performer\" if productivity > 0.2.\n",
    "- \"Moderate Performer\" if productivity is between 0.1 and 0.2.\n",
    "- \"Low Performer\" if productivity < 0.1.\n",
    "2. Group by \"Category\" and calculate:\n",
    "- The total number of employees in each category.\n",
    "- The average productivity in each category."
   ]
  },
  {
   "cell_type": "code",
   "execution_count": null,
   "metadata": {},
   "outputs": [
    {
     "name": "stdout",
     "output_type": "stream",
     "text": [
      "  Employee  Hours Worked  Projects Completed Productivity          ProdGrade  \\\n",
      "0    Alice            35                   5     0.142857  Needs Improvement   \n",
      "1      Bob            40                   7        0.175         Productive   \n",
      "2  Charlie            25                   3         0.12  Needs Improvement   \n",
      "3    Diana            45                   8     0.177778         Productive   \n",
      "\n",
      "             Category  \n",
      "0  Moderate Performer  \n",
      "1      High Performer  \n",
      "2  Moderate Performer  \n",
      "3      High Performer  \n",
      "Number of: \n",
      "High Performing Employees: 2 \n",
      "Moderately Performing Employees: 2\n",
      "Average Productivity of: \n",
      "High Performing Employees: 0.17638888888888887 \n",
      "Moderately Performing Employees: 0.13142857142857142\n"
     ]
    }
   ],
   "source": [
    "# Add a categorizing column\n",
    "df['Category'] = df['Productivity'].apply(lambda productivity: 'High Performer' if productivity >= 0.15\n",
    "                                  else ('Moderate Performer' if productivity >= 0.1 \n",
    "                                  else 'Low Performer'))\n",
    "print(df)\n",
    "# Print total number of employees in each category\n",
    "print(\"Number of:\",\"\\nHigh Performing Employees:\", df[df[\"Category\"] == \"High Performer\"].shape[0], \n",
    "      \"\\nModerately Performing Employees:\", df[df[\"Category\"] == \"Moderate Performer\"].shape[0])\n",
    "# Print average productivity of each category\n",
    "print(\"Average Productivity of:\",\"\\nHigh Performing Employees:\", df[df[\"Category\"] == \"High Performer\"][\"Productivity\"].mean(axis=0),\n",
    "      \"\\nModerately Performing Employees:\", df[df[\"Category\"] == \"Moderate Performer\"][\"Productivity\"].mean(axis=0) )"
   ]
  }
 ],
 "metadata": {
  "kernelspec": {
   "display_name": "Python 3",
   "language": "python",
   "name": "python3"
  },
  "language_info": {
   "codemirror_mode": {
    "name": "ipython",
    "version": 3
   },
   "file_extension": ".py",
   "mimetype": "text/x-python",
   "name": "python",
   "nbconvert_exporter": "python",
   "pygments_lexer": "ipython3",
   "version": "3.13.0"
  }
 },
 "nbformat": 4,
 "nbformat_minor": 2
}
