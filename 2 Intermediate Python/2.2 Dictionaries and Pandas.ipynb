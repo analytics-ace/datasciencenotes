{
 "cells": [
  {
   "cell_type": "markdown",
   "metadata": {},
   "source": [
    "## Dictionaries and Pandas\n",
    "\n",
    "#### Dictionaries\n",
    "- Motivation for Dictionaries:\n",
    "Dictionaries are an essential data structure in Python, offering a way to store data in key-value pairs. Unlike lists, which use indexed positions (0, 1, 2...) to store values, dictionaries allow you to use descriptive keys to retrieve values. They are extremely useful when you need to associate a piece of data with a label or unique identifier.\n",
    "- Create Dictionary:\n",
    "A dictionary in Python is created using curly braces {}, with key-value pairs separated by a colon."
   ]
  },
  {
   "cell_type": "code",
   "execution_count": 2,
   "metadata": {},
   "outputs": [],
   "source": [
    "# Create Dictionary\n",
    "student = {\"name\": \"John\", \"age\": 21, \"major\": \"Computer Science\"}"
   ]
  },
  {
   "cell_type": "markdown",
   "metadata": {},
   "source": [
    "In the above example:  \n",
    "- \"name\", \"age\", and \"major\" are the keys.\n",
    "- \"John\", 21, and \"Computer Science\" are the values associated with these keys.\n",
    "\n",
    "1. Access Dictionary:  \n",
    "To access a value in the dictionary, you use the key:"
   ]
  },
  {
   "cell_type": "code",
   "execution_count": 3,
   "metadata": {},
   "outputs": [
    {
     "name": "stdout",
     "output_type": "stream",
     "text": [
      "Name: John\n",
      "Age: 21\n"
     ]
    }
   ],
   "source": [
    "print('Name:',student[\"name\"])  # Expect output: John\n",
    "print('Age:',student[\"age\"])   # Expect output: 21"
   ]
  },
  {
   "cell_type": "markdown",
   "metadata": {},
   "source": [
    "You can also use the .get() method to access a value, which avoids errors if the key is not found:"
   ]
  },
  {
   "cell_type": "code",
   "execution_count": 4,
   "metadata": {},
   "outputs": [
    {
     "name": "stdout",
     "output_type": "stream",
     "text": [
      "John\n"
     ]
    }
   ],
   "source": [
    "print(student.get(\"name\"))  # Output: John"
   ]
  },
  {
   "cell_type": "markdown",
   "metadata": {},
   "source": [
    "2.  Dictionary Manipulation: Add/Update/Delete:  \n",
    "You can add new key-value pairs or update existing ones by directly assigning a value to a key:"
   ]
  },
  {
   "cell_type": "code",
   "execution_count": 5,
   "metadata": {},
   "outputs": [],
   "source": [
    "# Adding new key-value pair, when inputting a key that doesn't exist yet\n",
    "student[\"grade\"] = \"A\"\n",
    "\n",
    "# Updating existing key-value pair, when assigning value to a key that already has an associated value\n",
    "student[\"age\"] = 22\n",
    "\n",
    "# Deleting key-value pair\n",
    "del student[\"major\"]"
   ]
  },
  {
   "cell_type": "markdown",
   "metadata": {},
   "source": [
    "3. Dictionary Manipulation: Iterating through Dictionaries:  \n",
    "You can loop through dictionaries to access both keys and values:"
   ]
  },
  {
   "cell_type": "code",
   "execution_count": 6,
   "metadata": {},
   "outputs": [
    {
     "name": "stdout",
     "output_type": "stream",
     "text": [
      "name: John\n",
      "age: 22\n",
      "grade: A\n"
     ]
    }
   ],
   "source": [
    "for key, value in student.items():\n",
    "    print(f\"{key}: {value}\")"
   ]
  },
  {
   "cell_type": "markdown",
   "metadata": {},
   "source": [
    "5. Dictionariception (Nested Dictionaries):  \n",
    "Dictionaries can also contain other dictionaries (nested dictionaries), which is useful for organizing more complex data."
   ]
  },
  {
   "cell_type": "code",
   "execution_count": 7,
   "metadata": {},
   "outputs": [
    {
     "name": "stdout",
     "output_type": "stream",
     "text": [
      "John\n"
     ]
    }
   ],
   "source": [
    "students = {\n",
    "    \"student1\": {\"name\": \"John\", \"age\": 21},\n",
    "    \"student2\": {\"name\": \"Alice\", \"age\": 22}\n",
    "}\n",
    "\n",
    "print(students[\"student1\"][\"name\"])  # Output: John"
   ]
  },
  {
   "cell_type": "markdown",
   "metadata": {},
   "source": [
    "#### Pandas \n",
    "##### Introduction to DataFrames\n",
    "1. Dictionary to DataFrame:  \n",
    "A DataFrame is a table-like structure in Pandas, which is built on top of Python dictionaries. You can convert a dictionary to a DataFrame as follows:"
   ]
  },
  {
   "cell_type": "code",
   "execution_count": 8,
   "metadata": {},
   "outputs": [
    {
     "name": "stdout",
     "output_type": "stream",
     "text": [
      "    name  age    major\n",
      "0   John   21       CS\n",
      "1  Alice   22     Math\n",
      "2    Bob   23  Biology\n"
     ]
    }
   ],
   "source": [
    "import pandas as pd\n",
    "\n",
    "data = {\n",
    "    \"name\": [\"John\", \"Alice\", \"Bob\"],\n",
    "    \"age\": [21, 22, 23],\n",
    "    \"major\": [\"CS\", \"Math\", \"Biology\"]\n",
    "}\n",
    "\n",
    "df = pd.DataFrame(data)\n",
    "print(df)"
   ]
  },
  {
   "cell_type": "markdown",
   "metadata": {},
   "source": [
    "You can also create a DataFrame from a list of dictionaries, where each dictionary represents a row:"
   ]
  },
  {
   "cell_type": "code",
   "execution_count": 9,
   "metadata": {},
   "outputs": [
    {
     "name": "stdout",
     "output_type": "stream",
     "text": [
      "    name  age    major\n",
      "0   John   21       CS\n",
      "1  Alice   22     Math\n",
      "2    Bob   23  Biology\n"
     ]
    }
   ],
   "source": [
    "data = [\n",
    "    {\"name\": \"John\", \"age\": 21, \"major\": \"CS\"},\n",
    "    {\"name\": \"Alice\", \"age\": 22, \"major\": \"Math\"},\n",
    "    {\"name\": \"Bob\", \"age\": 23, \"major\": \"Biology\"}\n",
    "]\n",
    "\n",
    "df = pd.DataFrame(data)\n",
    "print(df)"
   ]
  },
  {
   "cell_type": "markdown",
   "metadata": {},
   "source": [
    "2. CSV to DataFrame:  \n",
    "You can also read data from CSV files directly into a Pandas DataFrame:"
   ]
  },
  {
   "cell_type": "code",
   "execution_count": 10,
   "metadata": {},
   "outputs": [
    {
     "name": "stdout",
     "output_type": "stream",
     "text": [
      "   Store        Date  Weekly_Sales  Holiday_Flag  Temperature  Fuel_Price  \\\n",
      "0      1  05-02-2010    1643690.90             0        42.31       2.572   \n",
      "1      1  12-02-2010    1641957.44             1        38.51       2.548   \n",
      "2      1  19-02-2010    1611968.17             0        39.93       2.514   \n",
      "3      1  26-02-2010    1409727.59             0        46.63       2.561   \n",
      "4      1  05-03-2010    1554806.68             0        46.50       2.625   \n",
      "\n",
      "          CPI  Unemployment  \n",
      "0  211.096358         8.106  \n",
      "1  211.242170         8.106  \n",
      "2  211.289143         8.106  \n",
      "3  211.319643         8.106  \n",
      "4  211.350143         8.106  \n",
      "      Store        Date  Weekly_Sales  Holiday_Flag  Temperature  Fuel_Price  \\\n",
      "6430     45  28-09-2012     713173.95             0        64.88       3.997   \n",
      "6431     45  05-10-2012     733455.07             0        64.89       3.985   \n",
      "6432     45  12-10-2012     734464.36             0        54.47       4.000   \n",
      "6433     45  19-10-2012     718125.53             0        56.47       3.969   \n",
      "6434     45  26-10-2012     760281.43             0        58.85       3.882   \n",
      "\n",
      "             CPI  Unemployment  \n",
      "6430  192.013558         8.684  \n",
      "6431  192.170412         8.667  \n",
      "6432  192.327265         8.667  \n",
      "6433  192.330854         8.667  \n",
      "6434  192.308899         8.667  \n"
     ]
    }
   ],
   "source": [
    "df = pd.read_csv(r\"C:\\Users\\Renz\\.cache\\kagglehub\\datasets\\abubakkar123\\walmart-stores-weekly-sales-forecasting\\versions\\1\\Walmart.csv\")\n",
    "print(df.head())\n",
    "print(df.tail())"
   ]
  },
  {
   "cell_type": "markdown",
   "metadata": {},
   "source": [
    "#### DataFrame Manipulation\n",
    "1. Square Brackets: Accessing Columns:  \n",
    "You can access individual columns using square brackets:"
   ]
  },
  {
   "cell_type": "code",
   "execution_count": 11,
   "metadata": {},
   "outputs": [
    {
     "name": "stdout",
     "output_type": "stream",
     "text": [
      "0     John\n",
      "1    Alice\n",
      "2      Bob\n",
      "Name: name, dtype: object\n"
     ]
    }
   ],
   "source": [
    "data = [\n",
    "    {\"name\": \"John\", \"age\": 21, \"major\": \"CS\"},\n",
    "    {\"name\": \"Alice\", \"age\": 22, \"major\": \"Math\"},\n",
    "    {\"name\": \"Bob\", \"age\": 23, \"major\": \"Biology\"}\n",
    "]\n",
    "\n",
    "df = pd.DataFrame(data)\n",
    "print(df[\"name\"])  # Output: Series containing names"
   ]
  },
  {
   "cell_type": "markdown",
   "metadata": {},
   "source": [
    "2. Square Brackets: Accessing Rows:  \n",
    "To access rows by index, you can use .iloc[] (for index-based access) or .loc[] (for label-based access):"
   ]
  },
  {
   "cell_type": "code",
   "execution_count": 12,
   "metadata": {},
   "outputs": [
    {
     "name": "stdout",
     "output_type": "stream",
     "text": [
      "name     John\n",
      "age        21\n",
      "major      CS\n",
      "Name: 0, dtype: object\n",
      "name     John\n",
      "age        21\n",
      "major      CS\n",
      "Name: 0, dtype: object\n"
     ]
    }
   ],
   "source": [
    "print(df.iloc[0])  # Access the first row\n",
    "print(df.loc[0])  # Access the row with index 0 (same as iloc for this case)"
   ]
  },
  {
   "cell_type": "markdown",
   "metadata": {},
   "source": [
    "3. loc and iloc: Label-based and Position-based Indexing:\n",
    "loc[] is label-based, meaning you use the row label (index) to access the data:"
   ]
  },
  {
   "cell_type": "code",
   "execution_count": 15,
   "metadata": {},
   "outputs": [
    {
     "name": "stdout",
     "output_type": "stream",
     "text": [
      "name     John\n",
      "age        21\n",
      "major      CS\n",
      "Name: 0, dtype: object\n",
      "0     John\n",
      "1    Alice\n",
      "2      Bob\n",
      "Name: name, dtype: object\n"
     ]
    }
   ],
   "source": [
    "print(df.loc[0]) # First row of all columns\n",
    "print(df.loc[:,'name']) # All rows of column 'name'"
   ]
  },
  {
   "cell_type": "markdown",
   "metadata": {},
   "source": [
    "iloc[] is position-based, meaning you use the integer index to access the data:"
   ]
  },
  {
   "cell_type": "code",
   "execution_count": 16,
   "metadata": {},
   "outputs": [
    {
     "name": "stdout",
     "output_type": "stream",
     "text": [
      "name     John\n",
      "age        21\n",
      "major      CS\n",
      "Name: 0, dtype: object\n",
      "0     John\n",
      "1    Alice\n",
      "2      Bob\n",
      "Name: name, dtype: object\n"
     ]
    }
   ],
   "source": [
    "print(df.iloc[0])  # First row of all columns\n",
    "print(df.iloc[:,0]) # All rows of the first column"
   ]
  },
  {
   "cell_type": "markdown",
   "metadata": {},
   "source": [
    "4. loc and iloc: Slicing Rows and Columns:\n",
    "You can slice both rows and columns with .loc[] and .iloc[]:"
   ]
  },
  {
   "cell_type": "code",
   "execution_count": 17,
   "metadata": {},
   "outputs": [
    {
     "name": "stdout",
     "output_type": "stream",
     "text": [
      "    name  age\n",
      "0   John   21\n",
      "1  Alice   22\n",
      "   name  age\n",
      "0  John   21\n"
     ]
    }
   ],
   "source": [
    "# Using loc for slicing by label\n",
    "print(df.loc[0:1, [\"name\", \"age\"]])  # First two rows, 'name' and 'age' columns\n",
    "\n",
    "# Using iloc for slicing by position\n",
    "print(df.iloc[0:1, [0, 1]])  # First row, 'name' and 'age' columns"
   ]
  },
  {
   "cell_type": "markdown",
   "metadata": {},
   "source": [
    "5. loc and iloc: Filtering DataFrames:\n",
    "You can filter DataFrames based on conditions:"
   ]
  },
  {
   "cell_type": "code",
   "execution_count": null,
   "metadata": {},
   "outputs": [
    {
     "name": "stdout",
     "output_type": "stream",
     "text": [
      "    name  age    major\n",
      "1  Alice   22     Math\n",
      "2    Bob   23  Biology\n",
      "    name  age\n",
      "1  Alice   22\n",
      "2    Bob   23\n",
      "    name  age major\n",
      "0   John   21    CS\n",
      "1  Alice   22  Math\n"
     ]
    }
   ],
   "source": [
    "# Using loc to filter by condition\n",
    "print(df.loc[df[\"age\"] > 21]) # Returns all the columns of those over 21 years old\n",
    "print(df.loc[df[\"age\"] > 21, [\"name\",\"age\"]]) # Returns only the name and age of those over 21 years old\n",
    "\n",
    "# iloc, on the other hand, doesn't directly handle boolean conditions\n",
    "print(df.iloc[0:2])\n"
   ]
  },
  {
   "cell_type": "markdown",
   "metadata": {},
   "source": [
    "#### Practice Project: Working with Data\n",
    "Objective:  \n",
    "The goal of this project is to create and manipulate a DataFrame using Python dictionaries, and practice your ability to access and filter data.  \n",
    "\n",
    "Dataset: Create a dataset with the following columns: \"name\", \"age\", \"major\", \"GPA\".  \n",
    "\n",
    "Steps to Follow:\n",
    "1. Create a dictionary for the dataset: Create a dictionary with lists for each column\n",
    "2. Convert the dictionary to a Pandas DataFrame: Use pd.DataFrame(data) to convert the dictionary to a DataFrame.\n",
    "3. Perform DataFrame operations:\n",
    "- Access a single column (e.g., \"name\").\n",
    "- Access multiple columns (e.g., \"name\" and \"GPA\").\n",
    "- Filter rows where GPA is greater than 3.5.\n",
    "- Add a new column that contains the graduation year (assuming students graduate in 4 years).\n",
    "- Use loc[] and iloc[] to access specific rows and columns."
   ]
  },
  {
   "cell_type": "code",
   "execution_count": 39,
   "metadata": {},
   "outputs": [
    {
     "name": "stdout",
     "output_type": "stream",
     "text": [
      "Barb\n",
      "   name  GPA\n",
      "0  Barb  2.9\n",
      "1   Ton  3.9\n",
      "2  Jose  3.7\n",
      "3  Melv  3.2\n",
      "4  Fred  3.8\n",
      "5  Mika  3.5\n",
      "   name  age      major  GPA\n",
      "1   Ton   22    Physics  3.9\n",
      "2  Jose   20   Aviation  3.7\n",
      "4  Fred   23  Economics  3.8\n",
      "   name  GPA\n",
      "1   Ton  3.9\n",
      "4  Fred  3.8\n",
      "5  Mika  3.5\n",
      "0    2027\n",
      "1    2025\n",
      "2    2026\n",
      "3    2028\n",
      "4    2024\n",
      "5    2023\n",
      "Name: Grad Yr., dtype: int64\n"
     ]
    }
   ],
   "source": [
    "ds = {\"name\":[\"Barb\", \"Ton\", \"Jose\", \"Melv\", \"Fred\", \"Mika\"],\n",
    "      \"age\":[19, 22, 20, 18, 23, 24],\n",
    "      \"major\":[\"Biology\", \"Physics\",\"Aviation\",\"Accountancy\",\"Economics\",\"Political Science\"],\n",
    "      \"GPA\":[2.9, 3.9, 3.7, 3.2, 3.8, 3.5]}\n",
    "daf = pd.DataFrame(ds)\n",
    "print(daf.loc[0,\"name\"])\n",
    "print(daf.loc[:,[\"name\",\"GPA\"]])\n",
    "print(daf.loc[daf[\"GPA\"] > 3.5])\n",
    "daf[\"Grad Yr.\"] = [2027, 2025, 2026, 2028, 2024, 2023]\n",
    "print(daf.loc[daf[\"Grad Yr.\"]<2026,[\"name\",\"GPA\"]])\n",
    "print(daf.iloc[:,-1])"
   ]
  },
  {
   "cell_type": "markdown",
   "metadata": {},
   "source": [
    "#### Bonus Problem:\n",
    "- Create a new column in the DataFrame that classifies students into categories based on their GPA: \"Excellent\" (GPA >= 3.8), \"Good\" (GPA between 3.0 and 3.7), and \"Needs Improvement\" (GPA < 3.0).\n",
    "- Then, group the students by this new category and calculate the average age and GPA for each category."
   ]
  },
  {
   "cell_type": "code",
   "execution_count": 40,
   "metadata": {},
   "outputs": [
    {
     "name": "stdout",
     "output_type": "stream",
     "text": [
      "   name  age              major  GPA  Grad Yr.            Remarks\n",
      "0  Barb   19            Biology  2.9      2027  Needs Improvement\n",
      "1   Ton   22            Physics  3.9      2025          Excellent\n",
      "2  Jose   20           Aviation  3.7      2026               Good\n",
      "3  Melv   18        Accountancy  3.2      2028               Good\n",
      "4  Fred   23          Economics  3.8      2024          Excellent\n",
      "5  Mika   24  Political Science  3.5      2023               Good\n",
      "\n",
      "Excellent Students\n",
      "    name  age      major  GPA  Grad Yr.\n",
      "1   Ton   22    Physics  3.9      2025\n",
      "4  Fred   23  Economics  3.8      2024\n",
      "\n",
      "Good Students\n",
      "    name  age              major  GPA  Grad Yr.\n",
      "2  Jose   20           Aviation  3.7      2026\n",
      "3  Melv   18        Accountancy  3.2      2028\n",
      "5  Mika   24  Political Science  3.5      2023\n",
      "\n",
      "Students Who Needs Improvement\n",
      "    name  age    major  GPA  Grad Yr.\n",
      "0  Barb   19  Biology  2.9      2027\n"
     ]
    }
   ],
   "source": [
    "daf['Remarks'] = daf['GPA'].apply(lambda gpa: 'Excellent' if gpa >= 3.8\n",
    "                                  else ('Good' if gpa >= 3.0 \n",
    "                                  else 'Needs Improvement'))\n",
    "print(daf)\n",
    "print(\"\\nExcellent Students\\n\", daf.loc[daf[\"Remarks\"] == \"Excellent\", daf.columns != \"Remarks\"])\n",
    "print(\"\\nGood Students\\n\", daf.loc[daf[\"Remarks\"] == \"Good\", daf.columns != \"Remarks\"])\n",
    "print(\"\\nStudents Who Needs Improvement\\n\", daf.loc[daf[\"Remarks\"] == \"Needs Improvement\", daf.columns != \"Remarks\"])"
   ]
  }
 ],
 "metadata": {
  "kernelspec": {
   "display_name": "Python 3",
   "language": "python",
   "name": "python3"
  },
  "language_info": {
   "codemirror_mode": {
    "name": "ipython",
    "version": 3
   },
   "file_extension": ".py",
   "mimetype": "text/x-python",
   "name": "python",
   "nbconvert_exporter": "python",
   "pygments_lexer": "ipython3",
   "version": "3.13.0"
  }
 },
 "nbformat": 4,
 "nbformat_minor": 2
}
