{
 "cells": [
  {
   "cell_type": "markdown",
   "metadata": {},
   "source": [
    "## NumPy Basics\n",
    "NumPy Array"
   ]
  },
  {
   "cell_type": "code",
   "execution_count": 2,
   "metadata": {},
   "outputs": [
    {
     "name": "stdout",
     "output_type": "stream",
     "text": [
      "[1 2 3 4 5]\n",
      "[ 2  4  6  8 10]\n"
     ]
    }
   ],
   "source": [
    "import numpy as np\n",
    "# Create a 1D numpy array\n",
    "arr = np.array([1, 2, 3, 4, 5]) # NumPy Arrays are similar to python lists but are optimized for mathematical operations\n",
    "print(arr) # They allow vertorized operations\n",
    "# like so\n",
    "mult = arr * 2\n",
    "print(mult)"
   ]
  },
  {
   "cell_type": "markdown",
   "metadata": {},
   "source": [
    "Basketball Player Heights"
   ]
  },
  {
   "cell_type": "code",
   "execution_count": 3,
   "metadata": {},
   "outputs": [
    {
     "name": "stdout",
     "output_type": "stream",
     "text": [
      "Heights:  [180 175 190 185 170]\n",
      "180\n",
      "170\n",
      "[175 190 185]\n",
      "[185 175 190 185 170]\n"
     ]
    }
   ],
   "source": [
    "heights = np.array([180, 175, 190, 185, 170])\n",
    "print(\"Heights: \", heights)\n",
    "# Accessing elements\n",
    "print(heights[0])  # First element\n",
    "print(heights[-1]) # Last element\n",
    "\n",
    "# Array slicing (subsetting)\n",
    "print(heights[1:4])  # Elements from index 1 to 3\n",
    "\n",
    "# NumPy arrays allow in-place operations\n",
    "heights[0] = 185  # Change the first element\n",
    "print(heights)"
   ]
  },
  {
   "cell_type": "markdown",
   "metadata": {},
   "source": [
    "#### Subsetting NumPy Arrays\n",
    "With NumPy, you can use more advanced techniques such as boolean indexing or masking."
   ]
  },
  {
   "cell_type": "code",
   "execution_count": 4,
   "metadata": {},
   "outputs": [
    {
     "name": "stdout",
     "output_type": "stream",
     "text": [
      "[185 190 185]\n",
      "[185 175 185]\n"
     ]
    }
   ],
   "source": [
    "# Boolean indexing\n",
    "tall_players = heights[heights > 180]\n",
    "print(tall_players)\n",
    "\n",
    "# Advanced Subsetting\n",
    "filtered_players = heights[(heights >= 175) & (heights <= 185)] # For players between 175 and 185 cm\n",
    "print(filtered_players)"
   ]
  },
  {
   "cell_type": "markdown",
   "metadata": {},
   "source": [
    "#### 2D NumPy Arrays\n",
    "A 2D array is simply an array of arrays (think of it as a matrix). Here's how you can create one for more complex data (e.g., baseball players' heights and weights):\n"
   ]
  },
  {
   "cell_type": "code",
   "execution_count": 5,
   "metadata": {},
   "outputs": [
    {
     "name": "stdout",
     "output_type": "stream",
     "text": [
      "2D Array:\n",
      " [[180  75]\n",
      " [175  80]\n",
      " [190  85]\n",
      " [185  70]\n",
      " [170  65]]\n",
      "[180  75]\n",
      "[75 80 85 70 65]\n",
      "80\n"
     ]
    }
   ],
   "source": [
    "# Creating 2D NumPy Arrays\n",
    "data = np.array([[180, 75], \n",
    "                 [175, 80], \n",
    "                 [190, 85], \n",
    "                 [185, 70], \n",
    "                 [170, 65]])\n",
    "print(\"2D Array:\\n\", data)\n",
    "\n",
    "# Subsetting 2D NumPy Arrays\n",
    "# Accessing the first row\n",
    "print(data[0])  # First row (height, weight)\n",
    "\n",
    "# Accessing the second column (weights)\n",
    "print(data[:, 1])  # All rows, second column\n",
    "\n",
    "# Subsetting 2D NumPy Arrays\n",
    "print(data[1, 1])  # Second row, second column (weight of player 2)"
   ]
  },
  {
   "cell_type": "markdown",
   "metadata": {},
   "source": [
    "##### Baseball Data in 2D form"
   ]
  },
  {
   "cell_type": "code",
   "execution_count": 6,
   "metadata": {},
   "outputs": [
    {
     "name": "stdout",
     "output_type": "stream",
     "text": [
      "[[180.    75.     0.3 ]\n",
      " [175.    80.     0.35]\n",
      " [190.    85.     0.28]\n",
      " [185.    70.     0.32]\n",
      " [170.    65.     0.29]]\n",
      "Batting Averages:\n",
      " [0.3  0.35 0.28 0.32 0.29]\n",
      "Good Batters:\n",
      " [[175.    80.     0.35]\n",
      " [185.    70.     0.32]]\n"
     ]
    }
   ],
   "source": [
    "baseball_data = np.array([[180, 75, 0.300],\n",
    "                          [175, 80, 0.350], \n",
    "                          [190, 85, 0.280], \n",
    "                          [185, 70, 0.320], \n",
    "                          [170, 65, 0.290]])\n",
    "print(baseball_data)\n",
    "\n",
    "# Extracting Information\n",
    "batting_averages = baseball_data[:, 2] # subsetting the third column\n",
    "print(\"Batting Averages:\\n\", batting_averages) \n",
    "\n",
    "# Applying conditions to 2D NumPy Arrays\n",
    "good_batters = baseball_data[baseball_data[:, 2] > 0.300] # Setting a standard for good batters\n",
    "print(\"Good Batters:\\n\",good_batters)"
   ]
  },
  {
   "cell_type": "markdown",
   "metadata": {},
   "source": [
    "#### 2D Arithmetic\n",
    "NumPy supports arithmetic operations across entire arrays. You can add, subtract, multiply, or divide arrays element-wise."
   ]
  },
  {
   "cell_type": "code",
   "execution_count": 7,
   "metadata": {},
   "outputs": [
    {
     "name": "stdout",
     "output_type": "stream",
     "text": [
      "New Weights: [82.5 88.  93.5 77.  71.5]\n",
      "Dot Product:\n",
      " [[19 22]\n",
      " [43 50]]\n"
     ]
    }
   ],
   "source": [
    "# Increase everyone's weight by 10% (element-wise)\n",
    "new_weights = baseball_data[:, 1] * 1.10\n",
    "print(\"New Weights:\", new_weights) # Everyone got 10% fatter via multiplication\n",
    "\n",
    "# Matrix Multiplication\n",
    "A = np.array([[1, 2], [3, 4]])\n",
    "B = np.array([[5, 6], [7, 8]])\n",
    "\n",
    "# Dot product of two matrices\n",
    "C = np.dot(A, B)\n",
    "print(\"Dot Product:\\n\", C)"
   ]
  },
  {
   "cell_type": "markdown",
   "metadata": {},
   "source": [
    "#### NumPy: Basic Statistics\n",
    "NumPy offers several built-in functions to calculate statistical properties of data."
   ]
  },
  {
   "cell_type": "code",
   "execution_count": 8,
   "metadata": {},
   "outputs": [
    {
     "name": "stdout",
     "output_type": "stream",
     "text": [
      "Average Height: 180.0\n",
      "Median Height: 180.0\n",
      "Standard Deviation of Height: 7.07106781\n",
      "Variance of Batting Averages: 0.000616\n",
      "25th Percentile of Heights: 175.0\n",
      "75th Percentile of Heights: 185.0\n"
     ]
    }
   ],
   "source": [
    "# Average Height\n",
    "average_height = np.mean(baseball_data[:, 0])\n",
    "print(\"Average Height:\", average_height)\n",
    "\n",
    "# Median Height\n",
    "median_height = np.median(baseball_data[:, 0])\n",
    "print(\"Median Height:\", median_height)\n",
    "\n",
    "# Standard deviation of heights\n",
    "std_dev_height = np.std(baseball_data[:, 0])\n",
    "print(\"Standard Deviation of Height:\", round(std_dev_height,8))\n",
    "\n",
    "# Variance of batting averages\n",
    "variance_batting_avg = np.var(baseball_data[:, 2])\n",
    "print(\"Variance of Batting Averages:\", round(variance_batting_avg, 8))\n",
    "\n",
    "# Summary Statistics\n",
    "percentile_25 = np.percentile(baseball_data[:, 0], 25)\n",
    "percentile_75 = np.percentile(baseball_data[:, 0], 75)\n",
    "print(\"25th Percentile of Heights:\", percentile_25)\n",
    "print(\"75th Percentile of Heights:\", percentile_75)\n"
   ]
  },
  {
   "cell_type": "markdown",
   "metadata": {},
   "source": [
    "#### Practice Problem: Baseball Team Data Analysis using NumPy\n",
    "You have been provided with data for a baseball team that includes the following columns:\n",
    "\n",
    "Height (cm) of the player\n",
    "Weight (kg) of the player\n",
    "Batting Average of the player (a value between 0 and 1, where higher means better performance)\n",
    "Your task is to use NumPy to perform the following:\n",
    "\n",
    "- Step 1: Create the Data  \n",
    "Create a 2D NumPy array called baseball_data with the following player data:  \n",
    "Player\tHeight (cm)\tWeight (kg)\tBatting Average  \n",
    "1\t[[180, 75, 0.300],  \n",
    "2\t[175, 80, 0.350],  \n",
    "3\t[190, 85, 0.280],  \n",
    "4\t[185, 70, 0.320],  \n",
    "5\t[170, 65, 0.290]]  \n",
    "\n",
    "- Step 2: Basic Array Operations  \n",
    "Extract the heights of the players (first column).  \n",
    "Extract the weights of the players (second column).  \n",
    "Extract the batting averages (third column).  \n",
    "\n",
    "- Step 3: Basic Statistics  \n",
    "Calculate the mean height and median height of the players.  \n",
    "Calculate the average batting average for the team.  \n",
    "Find the standard deviation of the players' weights.  \n",
    "Calculate the 25th percentile and 75th percentile of the batting averages.  \n",
    "\n",
    "- Step 4: Manipulating Data  \n",
    "Increase every player's weight by 5% (element-wise).  \n",
    "Filter out players with a batting average below 0.300 and create a new array good_batters with their heights, weights, and batting averages.  \n",
    "- Step 5: 2D Array Operations  \n",
    "Find the average height and average weight of all players.  \n",
    "Create a new 2D array where each player's height and weight are scaled by 10% (multiply by 1.10)."
   ]
  },
  {
   "cell_type": "code",
   "execution_count": null,
   "metadata": {},
   "outputs": [
    {
     "name": "stdout",
     "output_type": "stream",
     "text": [
      "Heights:\n",
      " [180. 175. 190. 185. 170.]\n",
      "Weight:\n",
      " [75. 80. 85. 70. 65.]\n",
      "Weight:\n",
      " [0.3  0.35 0.28 0.32 0.29]\n",
      "Average Height: 180.0\n",
      "Median Height: 180.0\n",
      "Team Battling Average: 0.308\n",
      "Team Weight Standard Deviation: 7.0710678118654755\n",
      "25 Percentile: 0.29\n",
      "75 Percentile: 0.32\n",
      "5% Fatter: [78.75 84.   89.25 73.5  68.25]\n",
      "Good Batters: [0.35 0.32]\n",
      "Average Height: 180.0\n",
      "Average Height: 75.0\n",
      "[[180.    82.5    0.3 ]\n",
      " [175.    88.     0.35]\n",
      " [190.    93.5    0.28]\n",
      " [185.    77.     0.32]\n",
      " [170.    71.5    0.29]]\n"
     ]
    }
   ],
   "source": [
    "# Create NumPy Array\n",
    "bb_data = np.array([[180, 75, 0.300],\n",
    "                    [175, 80, 0.350],\n",
    "                    [190, 85, 0.280],\n",
    "                    [185, 70, 0.320],\n",
    "                    [170, 65, 0.290]])\n",
    "\n",
    "# Extract specific columns\n",
    "ht = bb_data[:,0]\n",
    "print(\"Heights:\\n\",ht)\n",
    "wt = bb_data[:,1]\n",
    "print(\"Weight:\\n\", wt)\n",
    "ba = bb_data[:,2]\n",
    "print(\"Weight:\\n\", ba)\n",
    "\n",
    "# Basic Statistics\n",
    "ht_mean = np.mean(ht)\n",
    "print(\"Average Height:\", ht_mean)\n",
    "ht_median = np.median(ht)\n",
    "print(\"Median Height:\", ht_median)\n",
    "ba_mean = np.mean(ba)\n",
    "print(\"Team Battling Average:\", ba_mean)\n",
    "wt_std = np.std(wt)\n",
    "print(\"Team Weight Standard Deviation:\", wt_std)\n",
    "percentile_25 = np.percentile(ba, 25)\n",
    "print(\"25 Percentile:\", percentile_25)\n",
    "percentile_75 = np.percentile(ba, 75)\n",
    "print(\"75 Percentile:\", percentile_75)\n",
    "\n",
    "#Data Manipulation\n",
    "fat = wt*1.05\n",
    "print(\"5% Fatter:\", fat)\n",
    "good_batters = ba[ba > 0.300]\n",
    "print(\"Good Batters:\", good_batters)\n",
    "\n",
    "# Array Operations\n",
    "ht_mean = np.mean(ht)\n",
    "print(\"Average Height:\", ht_mean)\n",
    "wt_mean = np.mean(wt)\n",
    "print(\"Average Height:\", wt_mean)\n",
    "bb_data[:, 1] = bb_data[:, 1] * 1.1\n",
    "print(bb_data)"
   ]
  },
  {
   "cell_type": "markdown",
   "metadata": {},
   "source": [
    "#### Bonus Challenge\n",
    "Use boolean indexing to find and print the heights of all players who are taller than 180 cm and have a batting average greater than 0.300."
   ]
  },
  {
   "cell_type": "code",
   "execution_count": 22,
   "metadata": {},
   "outputs": [
    {
     "name": "stdout",
     "output_type": "stream",
     "text": [
      "Tall and Good Players:\n",
      " [[185.    77.     0.32]]\n"
     ]
    }
   ],
   "source": [
    "tal = bb_data[(bb_data[:,0] > 180) & (bb_data[:,2] > 0.300)]\n",
    "print(\"Tall and Good Players:\\n\", tal )"
   ]
  },
  {
   "cell_type": "code",
   "execution_count": null,
   "metadata": {},
   "outputs": [],
   "source": []
  }
 ],
 "metadata": {
  "kernelspec": {
   "display_name": "Python 3",
   "language": "python",
   "name": "python3"
  },
  "language_info": {
   "codemirror_mode": {
    "name": "ipython",
    "version": 3
   },
   "file_extension": ".py",
   "mimetype": "text/x-python",
   "name": "python",
   "nbconvert_exporter": "python",
   "pygments_lexer": "ipython3",
   "version": "3.13.0"
  }
 },
 "nbformat": 4,
 "nbformat_minor": 2
}
