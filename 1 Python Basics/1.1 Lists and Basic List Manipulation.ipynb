{
 "cells": [
  {
   "cell_type": "markdown",
   "metadata": {},
   "source": [
    "Python Lists"
   ]
  },
  {
   "cell_type": "code",
   "execution_count": 17,
   "metadata": {},
   "outputs": [],
   "source": [
    "# There are different types of data structures:\n",
    "# tuples ()\n",
    "# lists []\n",
    "# dictionaries {:}\n",
    "# set {}, set()\n",
    "# frozen set, frozenset()\n",
    "# deque (Double-ended queue), from collections module deque()\n",
    "# named tuple, from collections module namedtuple()\n",
    "# counter, from collections module Counter()\n",
    "# default dictionary, from collections module defaultdict()\n",
    "# ordered dictionary, from collections module Ordereddict()\n",
    "# priority queue, from heapq module heapq.heapify(), heapq.heappop()\n",
    "# FIFO queue, from queue module queue.Queue(), queue.Lifoqueue()"
   ]
  },
  {
   "cell_type": "code",
   "execution_count": 18,
   "metadata": {},
   "outputs": [
    {
     "name": "stdout",
     "output_type": "stream",
     "text": [
      "[-5, -4, -3, -2, -1, 0, 1, 2, 3, 4, 5]\n"
     ]
    }
   ],
   "source": [
    "# Python lists are variables that hold multiple elements simulataneously\n",
    "natural_numbers = [1,2,3,4,5,]\n",
    "whole_numbers = [0,] + natural_numbers\n",
    "integers = [-5,-4,-3,-2,-1,] + whole_numbers\n",
    "print(integers)"
   ]
  },
  {
   "cell_type": "code",
   "execution_count": 19,
   "metadata": {},
   "outputs": [
    {
     "name": "stdout",
     "output_type": "stream",
     "text": [
      "[1, 'one', 1.1, True]\n"
     ]
    }
   ],
   "source": [
    "# Lists can contain values of different data types\n",
    "numbers = [1, \"one\", 1.1, True]\n",
    "print(numbers)"
   ]
  },
  {
   "cell_type": "code",
   "execution_count": 20,
   "metadata": {},
   "outputs": [
    {
     "name": "stdout",
     "output_type": "stream",
     "text": [
      "[[1, 2, 3, 4, 5], [0, 1, 2, 3, 4, 5], [-5, -4, -3, -2, -1, 0, 1, 2, 3, 4, 5], [1, 'one', 1.1, True]]\n"
     ]
    }
   ],
   "source": [
    "# Furthermore, lists can contain lists like so\n",
    "Superlist = [natural_numbers, whole_numbers, integers, numbers]\n",
    "print(Superlist)"
   ]
  },
  {
   "cell_type": "code",
   "execution_count": 21,
   "metadata": {},
   "outputs": [
    {
     "name": "stdout",
     "output_type": "stream",
     "text": [
      "1\n",
      "[1, 2, 3]\n",
      "[1, 2, 4, 5]\n"
     ]
    }
   ],
   "source": [
    "# Before starting to use data, it is important to know how to refer to values individually\n",
    "# Subsetting\n",
    "print(natural_numbers[0]) # Get the first values\n",
    "# Omitting\n",
    "print(natural_numbers[0:3]) # Get the first 3 values\n",
    "print(natural_numbers[0:2]+natural_numbers[3:5]) # Just like the one above but excludes the third value This is called "
   ]
  },
  {
   "cell_type": "code",
   "execution_count": 22,
   "metadata": {},
   "outputs": [
    {
     "name": "stdout",
     "output_type": "stream",
     "text": [
      "one\n"
     ]
    }
   ],
   "source": [
    "# For lists withing lists, this works a little bit differently\n",
    "# Subsetting Lists of Lists\n",
    "print(Superlist[3][1])"
   ]
  },
  {
   "cell_type": "code",
   "execution_count": 23,
   "metadata": {},
   "outputs": [
    {
     "name": "stdout",
     "output_type": "stream",
     "text": [
      "[1, 'two', 3, 4, 5]\n"
     ]
    }
   ],
   "source": [
    "# Now that we know that, we can move on to manipulating values within sets\n",
    "# Replacing an element\n",
    "natural_numbers[1] = 'two'\n",
    "print(natural_numbers)\n",
    "natural_numbers[1] = 2"
   ]
  },
  {
   "cell_type": "code",
   "execution_count": 24,
   "metadata": {},
   "outputs": [
    {
     "name": "stdout",
     "output_type": "stream",
     "text": [
      "[0, 1, 2, 3, 4, 5, 6]\n",
      "[0, 1, 2, 3, 4, 5, 6, 'seven', True]\n",
      "[-1, 0, 1, 2, 3, 4, 5, 6, 'seven', True]\n"
     ]
    }
   ],
   "source": [
    "# Lists can be extended using the following functions \n",
    "# append(), to add a single element\n",
    "whole_numbers.append(6)\n",
    "print(whole_numbers)\n",
    "# extend(), to add a list of elements within a list\n",
    "whole_numbers.extend([\"seven\", True])\n",
    "print(whole_numbers)\n",
    "# insert(), to squeeze in a value within a list\n",
    "whole_numbers.insert(0, -1)\n",
    "print(whole_numbers)"
   ]
  },
  {
   "cell_type": "code",
   "execution_count": 25,
   "metadata": {},
   "outputs": [
    {
     "name": "stdout",
     "output_type": "stream",
     "text": [
      "[-1, 0, 1, 2, 3, 4, 5, 6, True]\n",
      "[-1, 0, 1, 2, 3, 4, 5, True]\n",
      "True\n",
      "[-1, 0, 1, 2, 3, 4, 5]\n"
     ]
    }
   ],
   "source": [
    "# Furthermore, you can also delete elements. Here's how:\n",
    "# del, remove value by index\n",
    "del whole_numbers[8]\n",
    "print(whole_numbers)\n",
    "# remove(), remove value\n",
    "whole_numbers.remove(6)\n",
    "print(whole_numbers)\n",
    "# pop(), remove by index but retain data of what is removed\n",
    "popped = whole_numbers.pop(7)\n",
    "print(popped)\n",
    "print(whole_numbers)\n",
    "\n"
   ]
  },
  {
   "cell_type": "markdown",
   "metadata": {},
   "source": [
    "Practice Problems\n"
   ]
  },
  {
   "cell_type": "markdown",
   "metadata": {},
   "source": [
    "Creating Lists: Create a list with 5 different types of elements, including a string, integer, float, boolean, and list."
   ]
  },
  {
   "cell_type": "code",
   "execution_count": 26,
   "metadata": {},
   "outputs": [
    {
     "name": "stdout",
     "output_type": "stream",
     "text": [
      "['renz', 1, 1.2, True, [100, 200, 300, 400, 500]]\n"
     ]
    }
   ],
   "source": [
    "j = [100, 200, 300, 400, 500]\n",
    "r = [\"renz\", 1, 1.2, True, j]\n",
    "print(r)"
   ]
  },
  {
   "cell_type": "markdown",
   "metadata": {},
   "source": [
    "Subsetting Lists: From the list [100, 200, 300, 400, 500], slice it to get [200, 300, 400].\n"
   ]
  },
  {
   "cell_type": "code",
   "execution_count": 27,
   "metadata": {},
   "outputs": [
    {
     "name": "stdout",
     "output_type": "stream",
     "text": [
      "[200, 300, 400]\n"
     ]
    }
   ],
   "source": [
    "f = j[1:4]\n",
    "print(f)"
   ]
  },
  {
   "cell_type": "markdown",
   "metadata": {},
   "source": [
    "Manipulating Lists:\n",
    "."
   ]
  },
  {
   "cell_type": "markdown",
   "metadata": {},
   "source": [
    "Create a list of colors and add a new color to it.\n"
   ]
  },
  {
   "cell_type": "code",
   "execution_count": 37,
   "metadata": {},
   "outputs": [
    {
     "name": "stdout",
     "output_type": "stream",
     "text": [
      "['blue', 'green', 'yellow', 'violet', 'lilac']\n"
     ]
    }
   ],
   "source": [
    "colors = [\"blue\", \"green\", \"yellow\", \"violet\"]\n",
    "colors.append(\"lilac\")\n",
    "print(colors)"
   ]
  },
  {
   "cell_type": "markdown",
   "metadata": {},
   "source": [
    "Replace the first color with another one."
   ]
  },
  {
   "cell_type": "code",
   "execution_count": 38,
   "metadata": {},
   "outputs": [
    {
     "name": "stdout",
     "output_type": "stream",
     "text": [
      "['blue', 'green', 'yellow', 'violet', 'Navy Blue']\n"
     ]
    }
   ],
   "source": [
    "colors[4] = \"Navy Blue\"\n",
    "print(colors)"
   ]
  },
  {
   "cell_type": "markdown",
   "metadata": {},
   "source": [
    "Remove the last color from the list and print the result."
   ]
  },
  {
   "cell_type": "code",
   "execution_count": 39,
   "metadata": {},
   "outputs": [
    {
     "name": "stdout",
     "output_type": "stream",
     "text": [
      "['blue', 'green', 'yellow', 'violet']\n"
     ]
    }
   ],
   "source": [
    "del colors[-1]\n",
    "print(colors)"
   ]
  }
 ],
 "metadata": {
  "kernelspec": {
   "display_name": "Python 3",
   "language": "python",
   "name": "python3"
  },
  "language_info": {
   "codemirror_mode": {
    "name": "ipython",
    "version": 3
   },
   "file_extension": ".py",
   "mimetype": "text/x-python",
   "name": "python",
   "nbconvert_exporter": "python",
   "pygments_lexer": "ipython3",
   "version": "3.13.0"
  }
 },
 "nbformat": 4,
 "nbformat_minor": 2
}
