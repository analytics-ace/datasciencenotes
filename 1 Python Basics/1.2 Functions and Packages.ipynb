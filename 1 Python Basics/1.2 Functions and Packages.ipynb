{
 "cells": [
  {
   "cell_type": "markdown",
   "metadata": {},
   "source": [
    "Functions and Packages"
   ]
  },
  {
   "cell_type": "markdown",
   "metadata": {},
   "source": [
    "Functions"
   ]
  },
  {
   "cell_type": "code",
   "execution_count": null,
   "metadata": {},
   "outputs": [
    {
     "name": "stdout",
     "output_type": "stream",
     "text": [
      "[1, 2, 3, 4]\n",
      "True\n",
      "Var1 Length: 4\n",
      "Var2 in Binary: 1.0\n",
      "1.5\n",
      "var1 Type: <class 'list'> var2 Type: <class 'bool'>\n",
      "Help on built-in function print in module builtins:\n",
      "\n",
      "print(*args, sep=' ', end='\\n', file=None, flush=False)\n",
      "    Prints the values to a stream, or to sys.stdout by default.\n",
      "\n",
      "    sep\n",
      "      string inserted between values, default a space.\n",
      "    end\n",
      "      string appended after the last value, default a newline.\n",
      "    file\n",
      "      a file-like object (stream); defaults to the current sys.stdout.\n",
      "    flush\n",
      "      whether to forcibly flush the stream.\n",
      "\n"
     ]
    },
    {
     "data": {
      "text/plain": [
       "['__call__',\n",
       " '__class__',\n",
       " '__delattr__',\n",
       " '__dir__',\n",
       " '__doc__',\n",
       " '__eq__',\n",
       " '__format__',\n",
       " '__ge__',\n",
       " '__getattribute__',\n",
       " '__getstate__',\n",
       " '__gt__',\n",
       " '__hash__',\n",
       " '__init__',\n",
       " '__init_subclass__',\n",
       " '__le__',\n",
       " '__lt__',\n",
       " '__module__',\n",
       " '__name__',\n",
       " '__ne__',\n",
       " '__new__',\n",
       " '__qualname__',\n",
       " '__reduce__',\n",
       " '__reduce_ex__',\n",
       " '__repr__',\n",
       " '__self__',\n",
       " '__setattr__',\n",
       " '__sizeof__',\n",
       " '__str__',\n",
       " '__subclasshook__',\n",
       " '__text_signature__']"
      ]
     },
     "execution_count": 14,
     "metadata": {},
     "output_type": "execute_result"
    }
   ],
   "source": [
    "# Familiar functions, print(), type()\n",
    "# More functions, str() int() bool() float() len() sum() round ()\n",
    "var1 = [1,2,3,4,]\n",
    "var2 = True\n",
    "print(var1)\n",
    "print(var2)\n",
    "print(\"Var1 Length:\", len(var1))\n",
    "print(\"Var2 in Binary:\", float(var2))\n",
    "type_var1 = type(var1)\n",
    "type_var2 = type(var2)\n",
    "var1_sumsi = [var1[0], var1[1]]\n",
    "# Futhermore, it is valid to perform multiple arguments in the same line as long as they follow the syntax of each function\n",
    "print(round((sum(var1_sumsi))/2, 1))\n",
    "print(\"var1 Type:\", type_var1, \"var2 Type:\", type_var2)\n",
    "\n",
    "# Use the function help() to find information about functions\n",
    "help(print)\n",
    "# And the function dir() to explore available methods for a function\n",
    "dir(len)"
   ]
  },
  {
   "cell_type": "markdown",
   "metadata": {},
   "source": [
    "Methods"
   ]
  },
  {
   "cell_type": "code",
   "execution_count": null,
   "metadata": {},
   "outputs": [
    {
     "name": "stdout",
     "output_type": "stream",
     "text": [
      "HELLO, H3LL! \n",
      "Goodbye, h3ll! \n",
      "['Hello', ' h3ll! ']\n",
      "0\n",
      "3\n",
      "[1, 3, 2, 1, 3, 4, 3, 2, 5, 'fourth']\n",
      "[1, 3, 2, 1, 3, 4, 3, 2, 5]\n",
      "[5, 2, 3, 4, 3, 1, 2, 3, 1]\n"
     ]
    }
   ],
   "source": [
    "# String Methods\n",
    "text = \"Hello, h3ll! \"\n",
    "# Capitalizes each letter character, leaves numerical characters untouched\n",
    "print(text.upper())\n",
    "print(text.replace(\"Hello\",\"Goodbye\"))\n",
    "print(text.split(\",\"))\n",
    "# List Methods\n",
    "telis = [1,3,2,1,3,4,3,2,5,]\n",
    "# index()\n",
    "print(telis.index(1))\n",
    "# count()\n",
    "print(telis.count(3))\n",
    "# append()\n",
    "telis.append(\"fourth\")\n",
    "print(telis)\n",
    "# remove() removes the mentioned element\n",
    "telis.remove(\"fourth\")\n",
    "print(telis)\n",
    "# reverse() reverses the order of the values in the list\n",
    "telis.reverse()\n",
    "print(telis)"
   ]
  },
  {
   "cell_type": "markdown",
   "metadata": {},
   "source": [
    "Packages"
   ]
  },
  {
   "cell_type": "code",
   "execution_count": 54,
   "metadata": {},
   "outputs": [
    {
     "name": "stdout",
     "output_type": "stream",
     "text": [
      "Circumference: 2.701769682087222\n",
      "Area: 0.5808804816487527\n",
      "Circumference: 2.7\n",
      "Area: 0.58\n",
      "0.43\n",
      "1\n",
      "2\n",
      "3\n",
      "4\n",
      "5\n"
     ]
    }
   ],
   "source": [
    "# Here, you can access different packages that allows additional functions that you may use in your code\n",
    "import math as meth # this is how you import said packages and you can rename them as such\n",
    "r = 0.43\n",
    "C = 2 * r * meth.pi # As you can see, I renamed the package as \"meth\"\n",
    "A = meth.pi * r ** 2 # I should call it that all throughout the code\n",
    "print(\"Circumference:\", C)\n",
    "print(\"Area:\", A)\n",
    "print(\"Circumference:\", round(C,2))\n",
    "print(\"Area:\", round(A,2))\n",
    "print(meth.sqrt(r**2))\n",
    "# You can also import selectively\n",
    "from time import sleep as sl\n",
    "\n",
    "# Set the range from start to end\n",
    "start = 1\n",
    "end = 5  # This will count from 1 to 5\n",
    "\n",
    "for number in range(start, end + 1):\n",
    "    print(number)\n",
    "    sl(1)  # Pause for x second/s before the next number"
   ]
  },
  {
   "cell_type": "markdown",
   "metadata": {},
   "source": [
    "#### Practice Problem: Data Cleaning and Analysis with Functions, Methods, and Packages\n",
    "You’re given a list of names and a list of ages of people who recently registered for an event. Some of the names are incorrectly formatted, and some ages contain invalid entries. Your task is to clean and analyze this data using Python."
   ]
  },
  {
   "cell_type": "code",
   "execution_count": 55,
   "metadata": {},
   "outputs": [],
   "source": [
    "names = [\"  Alice\", \"Bob \", \"CHARLIE\", \" diana\", \"evE\", \"Frank\"]\n",
    "ages = [\"25\", \"thirty\", \" 42\", \"36\", \" 19 \", \"28\"]"
   ]
  },
  {
   "cell_type": "markdown",
   "metadata": {},
   "source": [
    "#### Tasks:\n",
    "- Clean the Names List:\n",
    "1. Use string methods to ensure that each name is formatted correctly (capitalize the first letter and remove any leading or trailing whitespace).\n",
    "2. Print the cleaned list of names.\n",
    "\n",
    "- Convert Ages to Integers:\n",
    "1. Write a function that converts a list of age strings into integers, skipping over any invalid entries (like \"thirty\").\n",
    "2. Use a try-except block to handle invalid entries gracefully.\n",
    "3. Print the cleaned list of ages.\n",
    "\n",
    "- Calculate and Print Statistics:\n",
    "1. Import the statistics package to calculate the average age of the group.\n",
    "2. Print the average age, the minimum age, and the maximum age.\n",
    "- Optional - Advanced Analysis:\n",
    "1. Use the collections package and Counter to determine the most common age(s) in the list."
   ]
  },
  {
   "cell_type": "code",
   "execution_count": 63,
   "metadata": {},
   "outputs": [
    {
     "name": "stdout",
     "output_type": "stream",
     "text": [
      "Cleaned Names ['Alice', 'Bob', 'Charlie', 'Diana', 'Eve', 'Frank']\n",
      "Cleaned Ages: [25, 30, 42, 36, 19, 28]\n",
      "Average Age: 30\n",
      "Min Age: 19 \n",
      "Max Age: 42 \n",
      "Most Common Ages: 25\n"
     ]
    }
   ],
   "source": [
    "# Clean String Data\n",
    "# Strip leading and trailing whitespaces, and capitalize each name\n",
    "ns = [word.strip().capitalize() for word in names]  # One-liner that cleans white spaces and capitalizes all data\n",
    "print(\"Cleaned Names\", ns)\n",
    "\n",
    "# Convert list of number strings of number into integer\n",
    "from word2number import w2n\n",
    "def convert_to_int(num_list):\n",
    "    converted_list = []\n",
    "    for item in num_list:\n",
    "        try:\n",
    "            # Try to convert the item to an integer (if it's numeric)\n",
    "            converted_list.append(int(item))\n",
    "        except ValueError:\n",
    "            # If it raises a ValueError, it must be a spelled-out number\n",
    "            converted_list.append(w2n.word_to_num(item))\n",
    "    return converted_list\n",
    "# Use the pre-made function\n",
    "intages = convert_to_int(ages)\n",
    "print(\"Cleaned Ages:\",intages)\n",
    "\n",
    "# Now do the statistics\n",
    "import statistics as st\n",
    "average = st.mean(intages)\n",
    "print(\"Average Age:\", average)\n",
    "min_age = min(intages)\n",
    "max_age = max(intages)\n",
    "mode_age = st.mode(intages)\n",
    "print(\"Min Age:\", min_age, \"\\nMax Age:\", max_age, \"\\nMost Common Ages:\", mode_age)"
   ]
  },
  {
   "cell_type": "markdown",
   "metadata": {},
   "source": []
  }
 ],
 "metadata": {
  "kernelspec": {
   "display_name": "Python 3",
   "language": "python",
   "name": "python3"
  },
  "language_info": {
   "codemirror_mode": {
    "name": "ipython",
    "version": 3
   },
   "file_extension": ".py",
   "mimetype": "text/x-python",
   "name": "python",
   "nbconvert_exporter": "python",
   "pygments_lexer": "ipython3",
   "version": "3.13.0"
  }
 },
 "nbformat": 4,
 "nbformat_minor": 2
}
